{
  "nbformat": 4,
  "nbformat_minor": 0,
  "metadata": {
    "colab": {
      "provenance": []
    },
    "kernelspec": {
      "name": "python3",
      "display_name": "Python 3"
    },
    "language_info": {
      "name": "python"
    }
  },
  "cells": [
    {
      "cell_type": "code",
      "execution_count": null,
      "metadata": {
        "id": "2bWeLWOwmU_9"
      },
      "outputs": [],
      "source": []
    },
    {
      "cell_type": "markdown",
      "source": [
        "# **Theoretical Questions:**"
      ],
      "metadata": {
        "id": "darZohBznxYW"
      }
    },
    {
      "cell_type": "markdown",
      "source": [
        "**1. Explain the purpose and advantages of NumPy in scientific computing and data analysis. How does it enhance Python's capabilities for numerical operations?**"
      ],
      "metadata": {
        "id": "-eVtpVtenzWG"
      }
    },
    {
      "cell_type": "markdown",
      "source": [
        "Ans - NumPy is an indispensable tool for scientific computing, data analysis, and numerical computations in Python. Its ability to efficiently handle arrays, perform complex mathematical operations, and seamlessly integrate with other libraries solidifies its position as the cornerstone of numerical computing in Python."
      ],
      "metadata": {
        "id": "aCdZRZ0En-is"
      }
    },
    {
      "cell_type": "markdown",
      "source": [
        "**2. Compare and contrast np.mean() and np.average() functions in NumPy. When would you use one over the other?**\n",
        "\n",
        "Ans - The np. mean() method returns the arithmetic mean, but the np. average() function returns the algebraic mean if no additional parameters are specified, but it may also be used to compute a weighted average."
      ],
      "metadata": {
        "id": "MBY3XA9QoHYr"
      }
    },
    {
      "cell_type": "markdown",
      "source": [
        "**3. Describe the methods for reversing a NumPy array along different axes. Provide examples for 1D and 2D arrays.**\n",
        "\n",
        "Ans - As we know Numpy is a general-purpose array-processing package that provides a high-performance multidimensional array object, and tools for working with these arrays. Let’s discuss how can we reverse a Numpy array."
      ],
      "metadata": {
        "id": "ID07-j6QoSwb"
      }
    },
    {
      "cell_type": "code",
      "source": [
        "#example\n",
        "import numpy as np\n",
        "\n",
        "# initialising numpy array\n",
        "ini_array = np.array([1, 2, 3, 6, 4, 5])\n",
        "\n",
        "# using shortcut method to reverse\n",
        "res = np.flip(ini_array)\n",
        "\n",
        "# printing result\n",
        "print(\"final array\", str(res))\n"
      ],
      "metadata": {
        "colab": {
          "base_uri": "https://localhost:8080/"
        },
        "id": "oCHAPTS9obFr",
        "outputId": "58089277-bb50-42c6-8b83-7fa4e5cfa7eb"
      },
      "execution_count": 1,
      "outputs": [
        {
          "output_type": "stream",
          "name": "stdout",
          "text": [
            "final array [5 4 6 3 2 1]\n"
          ]
        }
      ]
    },
    {
      "cell_type": "markdown",
      "source": [
        "**4. How can you determine the data type of elements in a NumPy array? Discuss the importance of data typesin memory management and performance.**\n",
        "\n",
        "ANS - We can check the datatype of Numpy array by using dtype. Then it returns the data type all the elements in the array. In the given example below we import NumPy library and craete an array using “array()” method with integer value. Then we store the data type of the array in a variable named “data_type” using the ‘dtype’ attribute, and after then we can finally, we print the data type.\n"
      ],
      "metadata": {
        "id": "F8D5ZFKrogmz"
      }
    },
    {
      "cell_type": "markdown",
      "source": [
        "**5. Define ndarrays in NumPy and explain their key features. How do they differ from standard Python lists?**\n",
        "\n",
        "ANS - NumPy is the fundamental package for scientific computing in Python. Numpy arrays facilitate advanced mathematical and other types of operations on large numbers of data. Typically, such operations are executed more efficiently and with less code than is possible using Python’s built-in sequences. Numpy is not another programming language but a Python extension module. It provides fast and efficient operations on arrays of homogeneous data.\n",
        "\n",
        "**Some important points about Numpy arrays:**\n",
        "\n",
        "- We can create an N-dimensional array in Python using Numpy.array().\n",
        "- The array is by default Homogeneous, which means data inside an array must be of the same Datatype. (Note You can also create a structured array in Python).\n",
        "- Element-wise operation is possible.\n",
        "- Numpy array has various functions, methods, and variables, to ease our task of matrix computation.\n",
        "- Elements of an array are stored contiguously in memory. For example, all rows of a two-dimensioned array must have the same number of columns. A three-dimensional array must have the same number of rows and columns on each card.\n",
        "\n",
        "**Comparison between Numpy array and Python List**\n",
        "\n",
        "- Element Overhead: Lists in Python store additional information about each element, such as its type and reference count. This overhead can be significant when dealing with a large number of elements.\n",
        "\n",
        "- Datatype: Lists can hold different data types, but this can decrease memory efficiency and slow numerical operations.\n",
        "\n",
        "- Memory Fragmentation: Lists may not store elements in contiguous memory locations, causing memory fragmentation and inefficiency.\n",
        "\n",
        "- Performance: Lists are not optimized for numerical computations and may have slower mathematical operations due to Python’s interpretation overhead. They are generally used as general-purpose data structures.\n",
        "\n",
        "- Functionality: Lists can store any data type, but lack specialized NumPy functions for numerical operations."
      ],
      "metadata": {
        "id": "IVk9HXOIovqS"
      }
    },
    {
      "cell_type": "markdown",
      "source": [
        "**6. Analyze the performance benefits of NumPy arrays over Python lists for large-scale numerical operations.**\n",
        "\n",
        "Ans - Advantages of NumPy:\n",
        "\n",
        "Performance: NumPy's array operations are executed at compiled C speed, making them significantly faster than equivalent operations performed using Python lists. This performance boost is vital for handling large datasets and complex computations efficiently."
      ],
      "metadata": {
        "id": "Fk7r8zO0o_Bi"
      }
    },
    {
      "cell_type": "markdown",
      "source": [
        "**7. Compare vstack() and hstack() functions in NumPy. Provide examples demonstrating their usage andoutput.**\n",
        "\n",
        "Ans - numpy.vstack() function is used to stack the sequence of input arrays vertically to make a single array.\n",
        "\n",
        "\n",
        "Syntax  :  numpy.vstack(tup)\n",
        "\n",
        "\n",
        "Parameters :\n",
        "\n",
        "tup   : [sequence of ndarrays] Tuple containing arrays to be stacked. The arrays must have the same shape along all but the first axis.\n",
        "\n",
        "\n",
        "Return  : [stacked ndarray] The stacked array of the input arrays.\n"
      ],
      "metadata": {
        "id": "H0nWMDQSpJUC"
      }
    },
    {
      "cell_type": "code",
      "source": [
        "# Python program explaining\n",
        "# vstack() function\n",
        "\n",
        "import numpy as geek\n",
        "\n",
        "# input array\n",
        "in_arr1 = geek.array([ 1, 2, 3] )\n",
        "print (\"1st Input array : \\n\", in_arr1)\n",
        "\n",
        "in_arr2 = geek.array([ 4, 5, 6] )\n",
        "print (\"2nd Input array : \\n\", in_arr2)\n",
        "\n",
        "# Stacking the two arrays vertically\n",
        "out_arr = geek.vstack((in_arr1, in_arr2))\n",
        "print (\"Output vertically stacked array:\\n \", out_arr)\n"
      ],
      "metadata": {
        "colab": {
          "base_uri": "https://localhost:8080/"
        },
        "id": "Uzdft4vQpdAN",
        "outputId": "2d10465f-b564-4da9-d0c7-135e0c82362e"
      },
      "execution_count": 2,
      "outputs": [
        {
          "output_type": "stream",
          "name": "stdout",
          "text": [
            "1st Input array : \n",
            " [1 2 3]\n",
            "2nd Input array : \n",
            " [4 5 6]\n",
            "Output vertically stacked array:\n",
            "  [[1 2 3]\n",
            " [4 5 6]]\n"
          ]
        }
      ]
    },
    {
      "cell_type": "markdown",
      "source": [
        "**8. Explain the differences between fliplr() and flipud() methods in NumPy, including their effects on variousarray dimensions.**\n",
        "\n",
        "Ans - The main difference is that NumPy arrays are much faster and have strict requirements on the homogeneity of the objects. For example, a NumPy array of strings can only contain strings and no other data types, but a Python list can contain a mixture of strings, numbers, booleans and other objects.\n",
        "\n",
        "\n",
        "\n",
        "\n",
        "\n",
        "\n",
        "\n",
        "\n",
        "\n",
        "\n",
        "\n"
      ],
      "metadata": {
        "id": "oV1lg9_ipitl"
      }
    },
    {
      "cell_type": "markdown",
      "source": [
        "**9. Discuss the functionality of the array_split() method in NumPy. How does it handle uneven splits?**\n",
        "\n",
        "Ans - array_split() s plitting into equal or nearly equal sub-arrays or is similar to numpy. split(), but it allows for uneven splitting of arrays. This is useful when the array cannot be evenly divided by the specified number of splits."
      ],
      "metadata": {
        "id": "I_lOxuJhpsRa"
      }
    },
    {
      "cell_type": "markdown",
      "source": [
        "**10. Explain the concepts of vectorization and broadcasting in NumPy. How do they contribute to efficient array operations?**\n",
        "\n",
        "Ans - Broadcasting provides a means of vectorizing array operations so that looping occurs in C instead of Python. It does this without making needless copies of data and usually leads to efficient algorithm implementations."
      ],
      "metadata": {
        "id": "hmTL-zyipzvJ"
      }
    },
    {
      "cell_type": "markdown",
      "source": [
        "# **Practical Questions:**\n"
      ],
      "metadata": {
        "id": "zV95ozLRp8ET"
      }
    },
    {
      "cell_type": "markdown",
      "source": [
        "**1. Create a 3x3 NumPy array with random integers between 1 and 100. Then, interchange its rows and columns.**\n",
        "\n",
        "Ans -"
      ],
      "metadata": {
        "id": "J5AumriJp-5j"
      }
    },
    {
      "cell_type": "code",
      "source": [
        "import numpy as np\n",
        "random_matrix = np.random.randint(1,100,size=(3,3))\n",
        "print(random_matrix)"
      ],
      "metadata": {
        "colab": {
          "base_uri": "https://localhost:8080/"
        },
        "id": "j0uYgZPcqCei",
        "outputId": "4d57c379-f7e7-46ed-d96f-a7717f390afe"
      },
      "execution_count": 3,
      "outputs": [
        {
          "output_type": "stream",
          "name": "stdout",
          "text": [
            "[[83 91 52]\n",
            " [72 29 99]\n",
            " [58 98 77]]\n"
          ]
        }
      ]
    },
    {
      "cell_type": "markdown",
      "source": [
        "**2. Generate a 1D NumPy array with 10 elements. Reshape it into a 2x5 array, then into a 5x2 array.**\n",
        "\n",
        "Ans -"
      ],
      "metadata": {
        "id": "htUYvk2uqThS"
      }
    },
    {
      "cell_type": "code",
      "source": [
        "import numpy as np\n",
        "# 1-D array having elements [1 2 3 4 5 6 7 8 9 1]\n",
        "arr = np.array([1, 2, 3, 4, 5, 6, 7, 8, 9, 1])\n",
        "\n",
        "# Now we can convert this 1-D array into 2-D in two ways\n",
        "\n",
        "# 1. having dimension 2 x 5\n",
        "arr1 = arr.reshape(2, 5)\n",
        "print ('After reshaping having dimension 2x5:')\n",
        "print (arr1)\n",
        "print ('\\n')\n",
        "\n",
        "# 2. having dimension 5 x 2\n",
        "arr2 = arr.reshape(5, 2)\n",
        "print ('After reshaping having dimension 5x2:')\n",
        "print (arr2)\n",
        "print ('\\n')\n"
      ],
      "metadata": {
        "colab": {
          "base_uri": "https://localhost:8080/"
        },
        "id": "yXP5kjbZqa1t",
        "outputId": "7bcd7952-4976-43ec-ef23-f04d7d3046a6"
      },
      "execution_count": 4,
      "outputs": [
        {
          "output_type": "stream",
          "name": "stdout",
          "text": [
            "After reshaping having dimension 2x5:\n",
            "[[1 2 3 4 5]\n",
            " [6 7 8 9 1]]\n",
            "\n",
            "\n",
            "After reshaping having dimension 5x2:\n",
            "[[1 2]\n",
            " [3 4]\n",
            " [5 6]\n",
            " [7 8]\n",
            " [9 1]]\n",
            "\n",
            "\n"
          ]
        }
      ]
    },
    {
      "cell_type": "markdown",
      "source": [
        "**3. Create a 4x4 NumPy array with random float values. Add a border of zeros around it, resulting in a 6x6 array.**\n",
        "\n",
        "Ans -"
      ],
      "metadata": {
        "id": "AgWgk_9UqewB"
      }
    },
    {
      "cell_type": "code",
      "source": [
        "import numpy as np\n",
        "from math import sqrt\n",
        "\n",
        "#  Element 1\n",
        "C_1= 3/5\n",
        "S_1= 4/5\n",
        "matrix_1 = np.matrix([[C_1**2, C_1*S_1,-C_1**2,-C_1*S_1],[C_1*S_1,S_1**2,-C_1*S_1,-S_1**2],\n",
        "                    [-C_1**2,-C_1*S_1,C_1**2,C_1*S_1],[-C_1*S_1,-S_1**2,C_1*S_1,S_1**2]])\n",
        "empty_mat1 = np.zeros((6,6))\n",
        "empty_mat1[0:4 , 0:4] = empty_mat1[0:4 ,0:4] + matrix_1\n",
        "#print(empty_mat1)\n",
        "# Element 2\n",
        "\n",
        "C_2 = 0\n",
        "S_2 = 1\n",
        "matrix_2 = 1.25*np.matrix([[C_2**2, C_2*S_2,-C_2**2,-C_2*S_2],[C_2*S_2,S_2**2,-C_2*S_2,-S_2**2],\n",
        "                    [-C_2**2,-C_2*S_2,C_2**2,C_2*S_2],[-C_2*S_2,-S_2**2,C_2*S_2,S_2**2]])\n",
        "empty_mat2 = np.zeros((6,6))\n",
        "empty_mat2[0:2,0:2] = empty_mat2[0:2,0:2] + matrix_2[0:2,0:2]\n",
        "empty_mat2[4:6,0:2] = empty_mat2[4:6,0:2] + matrix_2[2:4,0:2]\n",
        "empty_mat2[0:2,4:6] = empty_mat2[0:2,4:6] + matrix_2[2:4,2:4]\n",
        "empty_mat2[4:6,4:6] = empty_mat2[4:6,4:6] + matrix_2[0:2,0:2]\n",
        "\n",
        "print(empty_mat1+empty_mat2)"
      ],
      "metadata": {
        "colab": {
          "base_uri": "https://localhost:8080/"
        },
        "id": "e-VWenO_qhui",
        "outputId": "aa4d62c0-9af5-48bf-ab6a-ff3c1c828168"
      },
      "execution_count": 5,
      "outputs": [
        {
          "output_type": "stream",
          "name": "stdout",
          "text": [
            "[[ 0.36  0.48 -0.36 -0.48  0.    0.  ]\n",
            " [ 0.48  1.89 -0.48 -0.64  0.    1.25]\n",
            " [-0.36 -0.48  0.36  0.48  0.    0.  ]\n",
            " [-0.48 -0.64  0.48  0.64  0.    0.  ]\n",
            " [ 0.    0.    0.    0.    0.    0.  ]\n",
            " [ 0.   -1.25  0.    0.    0.    1.25]]\n"
          ]
        }
      ]
    },
    {
      "cell_type": "markdown",
      "source": [
        "**4. Using NumPy, create an array of integers from 10 to 60 with a step of 5.**\n",
        "\n",
        "Ans -"
      ],
      "metadata": {
        "id": "iOuBFUrgqmkr"
      }
    },
    {
      "cell_type": "code",
      "source": [
        "# Importing the NumPy library with an alias 'np'\n",
        "import numpy as np\n",
        "\n",
        "# Creating an array of integers from 10 to 60 using np.arange()\n",
        "array = np.arange(10, 60)\n",
        "\n",
        "# Printing a message indicating an array of integers from 10 to 60\n",
        "print(\"Array of the integers from 10 to 60\")\n",
        "\n",
        "# Printing the array of integers from 10 to 60\n",
        "print(array)"
      ],
      "metadata": {
        "colab": {
          "base_uri": "https://localhost:8080/"
        },
        "id": "I75HLBIMqqOi",
        "outputId": "91df2a6a-dafe-4804-9f8b-b3734b8d25c4"
      },
      "execution_count": 6,
      "outputs": [
        {
          "output_type": "stream",
          "name": "stdout",
          "text": [
            "Array of the integers from 10 to 60\n",
            "[10 11 12 13 14 15 16 17 18 19 20 21 22 23 24 25 26 27 28 29 30 31 32 33\n",
            " 34 35 36 37 38 39 40 41 42 43 44 45 46 47 48 49 50 51 52 53 54 55 56 57\n",
            " 58 59]\n"
          ]
        }
      ]
    },
    {
      "cell_type": "markdown",
      "source": [
        "**5. Create a NumPy array of strings ['python', 'numpy', 'pandas']. Apply different case transformations\n",
        "(uppercase, lowercase, title case, etc.) to each element.**\n",
        "\n",
        "Ans -"
      ],
      "metadata": {
        "id": "or3pGSePqtlZ"
      }
    },
    {
      "cell_type": "code",
      "source": [
        "# Importing necessary library\n",
        "import numpy as np\n",
        "\n",
        "# Creating a NumPy array containing strings\n",
        "x = np.array(['Python', 'numpy', 'pandas', 'Examples'], dtype=str)\n",
        "\n",
        "# Displaying the content of the original array\n",
        "print(\"\\nOriginal Array:\")\n",
        "print(x)\n",
        "\n",
        "# Checking if each element contains digits only\n",
        "r1 = np.char.isdigit(x)\n",
        "\n",
        "# Checking if each element contains lower case letters only\n",
        "r2 = np.char.islower(x)\n",
        "\n",
        "# Checking if each element contains upper case letters only\n",
        "r3 = np.char.isupper(x)\n",
        "\n",
        "# Displaying results\n",
        "print(\"Digits only =\", r1)\n",
        "print(\"Lower cases only =\", r2)\n",
        "print(\"Upper cases only =\", r3)\n"
      ],
      "metadata": {
        "colab": {
          "base_uri": "https://localhost:8080/"
        },
        "id": "221bKoGCqyWK",
        "outputId": "93175197-e432-43e8-ecb0-dc1e279777b8"
      },
      "execution_count": 7,
      "outputs": [
        {
          "output_type": "stream",
          "name": "stdout",
          "text": [
            "\n",
            "Original Array:\n",
            "['Python' 'numpy' 'pandas' 'Examples']\n",
            "Digits only = [False False False False]\n",
            "Lower cases only = [False  True  True False]\n",
            "Upper cases only = [False False False False]\n"
          ]
        }
      ]
    },
    {
      "cell_type": "markdown",
      "source": [
        "**6. Generate a NumPy array of words. Insert a space between each character of every word in the array.**\n",
        "\n",
        "Ans -"
      ],
      "metadata": {
        "id": "aD3Tv7_Fq6Wx"
      }
    },
    {
      "cell_type": "code",
      "source": [
        "# Importing necessary library\n",
        "import numpy as np\n",
        "\n",
        "# Creating a NumPy array containing strings\n",
        "x = np.array(['python exercises', 'PHP', 'java', 'C++'], dtype=str)\n",
        "\n",
        "# Displaying the original array\n",
        "print(\"Original Array:\")\n",
        "print(x)\n",
        "\n",
        "# Using np.char.join to join elements of the array with a space character\n",
        "r = np.char.join(\" \", x)\n",
        "\n",
        "# Displaying the result after joining elements with a space\n",
        "print(r)"
      ],
      "metadata": {
        "colab": {
          "base_uri": "https://localhost:8080/"
        },
        "id": "09aqlsI0q-4J",
        "outputId": "2318e23c-33b9-4053-bf73-d21aaccbeb3f"
      },
      "execution_count": 8,
      "outputs": [
        {
          "output_type": "stream",
          "name": "stdout",
          "text": [
            "Original Array:\n",
            "['python exercises' 'PHP' 'java' 'C++']\n",
            "['p y t h o n   e x e r c i s e s' 'P H P' 'j a v a' 'C + +']\n"
          ]
        }
      ]
    },
    {
      "cell_type": "markdown",
      "source": [
        "** **bold text**7. Create two 2D NumPy arrays and perform element-wise addition, subtraction, multiplication, and division.**\n"
      ],
      "metadata": {
        "id": "YknX9loWrEH5"
      }
    },
    {
      "cell_type": "code",
      "source": [
        "# Importing the NumPy library\n",
        "import numpy as np\n",
        "\n",
        "# Displaying a message for addition operation\n",
        "print(\"Add:\")\n",
        "# Performing addition\n",
        "print(np.add(1.0, 4.0))\n",
        "\n",
        "# Displaying a message for subtraction operation\n",
        "print(\"Subtract:\")\n",
        "# Performing subtraction\n",
        "print(np.subtract(1.0, 4.0))\n",
        "\n",
        "# Displaying a message for multiplication operation\n",
        "print(\"Multiply:\")\n",
        "# Performing multiplication\n",
        "print(np.multiply(1.0, 4.0))\n",
        "\n",
        "# Displaying a message for division operation\n",
        "print(\"Divide:\")\n",
        "# Performing division\n",
        "print(np.divide(1.0, 4.0))\n"
      ],
      "metadata": {
        "colab": {
          "base_uri": "https://localhost:8080/"
        },
        "id": "9Vbv-MnMrHgS",
        "outputId": "9d8c5674-0b85-4603-d76c-4439333fc976"
      },
      "execution_count": 9,
      "outputs": [
        {
          "output_type": "stream",
          "name": "stdout",
          "text": [
            "Add:\n",
            "5.0\n",
            "Subtract:\n",
            "-3.0\n",
            "Multiply:\n",
            "4.0\n",
            "Divide:\n",
            "0.25\n"
          ]
        }
      ]
    },
    {
      "cell_type": "markdown",
      "source": [
        "**8. Use NumPy to create a 5x5 identity matrix, then extract its diagonal elements**\n",
        "\n",
        "Ans - This problem involves writing a NumPy program to generate a 5x5 matrix where all elements are initially set to zero, except for the main diagonal, which is filled with the values 1, 2, 3, 4, and 5. The task requires utilizing NumPy's array manipulation capabilities to efficiently construct and modify the matrix, ensuring the specified values are placed correctly on the diagonal. The resulting matrix combines elements of identity matrices with custom diagonal values."
      ],
      "metadata": {
        "id": "s_PF4CnHrQaI"
      }
    },
    {
      "cell_type": "code",
      "source": [
        "# Importing the NumPy library with an alias 'np'\n",
        "import numpy as np\n",
        "\n",
        "# Creating a diagonal matrix with diagonal elements 1, 2, 3, 4, 5 using np.diag()\n",
        "x = np.diag([1, 2, 3, 4, 5])\n",
        "\n",
        "# Printing the diagonal matrix 'x'\n",
        "print(x)\n"
      ],
      "metadata": {
        "colab": {
          "base_uri": "https://localhost:8080/"
        },
        "id": "K179aeoQrUxi",
        "outputId": "24772480-396b-4f11-9816-6894f04b9cdc"
      },
      "execution_count": 10,
      "outputs": [
        {
          "output_type": "stream",
          "name": "stdout",
          "text": [
            "[[1 0 0 0 0]\n",
            " [0 2 0 0 0]\n",
            " [0 0 3 0 0]\n",
            " [0 0 0 4 0]\n",
            " [0 0 0 0 5]]\n"
          ]
        }
      ]
    },
    {
      "cell_type": "markdown",
      "source": [
        "**9. Generate a NumPy array of 100 random integers between 0 and 1000. Find and display all prime numbers in this array.**\n",
        "\n",
        "Ans -"
      ],
      "metadata": {
        "id": "UiQP8P4Hrf6p"
      }
    },
    {
      "cell_type": "code",
      "source": [
        "from numpy import random\n",
        "\n",
        "x=random.randint(1000, size=(100))\n",
        "\n",
        "print(x)"
      ],
      "metadata": {
        "colab": {
          "base_uri": "https://localhost:8080/"
        },
        "id": "uJ2c0W-7rkKw",
        "outputId": "80edd63c-796d-4103-9f8d-769417683773"
      },
      "execution_count": 11,
      "outputs": [
        {
          "output_type": "stream",
          "name": "stdout",
          "text": [
            "[399 287 207 580 947  56 719 438 531 707 594 501 126 980 942 513 524 648\n",
            " 718 191 758  24 222 861 207 769 639 104 907 287 754 944 957 591 308 681\n",
            " 545  88 121 751 216 914 353 608 878 764 859 311 781 444 520 664 254 522\n",
            " 378 703 836 390 526 108 179 568 537 519 359 767 289 343  51 353  85 213\n",
            " 180 206 281 125  44 556 300 536 627 280 436 836 881 103 337 665  60 825\n",
            " 550  88   6 282 867 298 899 102  74 572]\n"
          ]
        }
      ]
    },
    {
      "cell_type": "code",
      "source": [
        "for num in range(1,1000):\n",
        "   if num > 1:\n",
        "       for i in range(2,num):\n",
        "           if (num % i) == 0:\n",
        "               break\n",
        "       else:\n",
        "           print(f\"{num} is a prime number!\")"
      ],
      "metadata": {
        "colab": {
          "base_uri": "https://localhost:8080/"
        },
        "id": "ZHtpYnvkrrno",
        "outputId": "a23d0434-d57a-4efd-947f-735bb25172f8"
      },
      "execution_count": 12,
      "outputs": [
        {
          "output_type": "stream",
          "name": "stdout",
          "text": [
            "2 is a prime number!\n",
            "3 is a prime number!\n",
            "5 is a prime number!\n",
            "7 is a prime number!\n",
            "11 is a prime number!\n",
            "13 is a prime number!\n",
            "17 is a prime number!\n",
            "19 is a prime number!\n",
            "23 is a prime number!\n",
            "29 is a prime number!\n",
            "31 is a prime number!\n",
            "37 is a prime number!\n",
            "41 is a prime number!\n",
            "43 is a prime number!\n",
            "47 is a prime number!\n",
            "53 is a prime number!\n",
            "59 is a prime number!\n",
            "61 is a prime number!\n",
            "67 is a prime number!\n",
            "71 is a prime number!\n",
            "73 is a prime number!\n",
            "79 is a prime number!\n",
            "83 is a prime number!\n",
            "89 is a prime number!\n",
            "97 is a prime number!\n",
            "101 is a prime number!\n",
            "103 is a prime number!\n",
            "107 is a prime number!\n",
            "109 is a prime number!\n",
            "113 is a prime number!\n",
            "127 is a prime number!\n",
            "131 is a prime number!\n",
            "137 is a prime number!\n",
            "139 is a prime number!\n",
            "149 is a prime number!\n",
            "151 is a prime number!\n",
            "157 is a prime number!\n",
            "163 is a prime number!\n",
            "167 is a prime number!\n",
            "173 is a prime number!\n",
            "179 is a prime number!\n",
            "181 is a prime number!\n",
            "191 is a prime number!\n",
            "193 is a prime number!\n",
            "197 is a prime number!\n",
            "199 is a prime number!\n",
            "211 is a prime number!\n",
            "223 is a prime number!\n",
            "227 is a prime number!\n",
            "229 is a prime number!\n",
            "233 is a prime number!\n",
            "239 is a prime number!\n",
            "241 is a prime number!\n",
            "251 is a prime number!\n",
            "257 is a prime number!\n",
            "263 is a prime number!\n",
            "269 is a prime number!\n",
            "271 is a prime number!\n",
            "277 is a prime number!\n",
            "281 is a prime number!\n",
            "283 is a prime number!\n",
            "293 is a prime number!\n",
            "307 is a prime number!\n",
            "311 is a prime number!\n",
            "313 is a prime number!\n",
            "317 is a prime number!\n",
            "331 is a prime number!\n",
            "337 is a prime number!\n",
            "347 is a prime number!\n",
            "349 is a prime number!\n",
            "353 is a prime number!\n",
            "359 is a prime number!\n",
            "367 is a prime number!\n",
            "373 is a prime number!\n",
            "379 is a prime number!\n",
            "383 is a prime number!\n",
            "389 is a prime number!\n",
            "397 is a prime number!\n",
            "401 is a prime number!\n",
            "409 is a prime number!\n",
            "419 is a prime number!\n",
            "421 is a prime number!\n",
            "431 is a prime number!\n",
            "433 is a prime number!\n",
            "439 is a prime number!\n",
            "443 is a prime number!\n",
            "449 is a prime number!\n",
            "457 is a prime number!\n",
            "461 is a prime number!\n",
            "463 is a prime number!\n",
            "467 is a prime number!\n",
            "479 is a prime number!\n",
            "487 is a prime number!\n",
            "491 is a prime number!\n",
            "499 is a prime number!\n",
            "503 is a prime number!\n",
            "509 is a prime number!\n",
            "521 is a prime number!\n",
            "523 is a prime number!\n",
            "541 is a prime number!\n",
            "547 is a prime number!\n",
            "557 is a prime number!\n",
            "563 is a prime number!\n",
            "569 is a prime number!\n",
            "571 is a prime number!\n",
            "577 is a prime number!\n",
            "587 is a prime number!\n",
            "593 is a prime number!\n",
            "599 is a prime number!\n",
            "601 is a prime number!\n",
            "607 is a prime number!\n",
            "613 is a prime number!\n",
            "617 is a prime number!\n",
            "619 is a prime number!\n",
            "631 is a prime number!\n",
            "641 is a prime number!\n",
            "643 is a prime number!\n",
            "647 is a prime number!\n",
            "653 is a prime number!\n",
            "659 is a prime number!\n",
            "661 is a prime number!\n",
            "673 is a prime number!\n",
            "677 is a prime number!\n",
            "683 is a prime number!\n",
            "691 is a prime number!\n",
            "701 is a prime number!\n",
            "709 is a prime number!\n",
            "719 is a prime number!\n",
            "727 is a prime number!\n",
            "733 is a prime number!\n",
            "739 is a prime number!\n",
            "743 is a prime number!\n",
            "751 is a prime number!\n",
            "757 is a prime number!\n",
            "761 is a prime number!\n",
            "769 is a prime number!\n",
            "773 is a prime number!\n",
            "787 is a prime number!\n",
            "797 is a prime number!\n",
            "809 is a prime number!\n",
            "811 is a prime number!\n",
            "821 is a prime number!\n",
            "823 is a prime number!\n",
            "827 is a prime number!\n",
            "829 is a prime number!\n",
            "839 is a prime number!\n",
            "853 is a prime number!\n",
            "857 is a prime number!\n",
            "859 is a prime number!\n",
            "863 is a prime number!\n",
            "877 is a prime number!\n",
            "881 is a prime number!\n",
            "883 is a prime number!\n",
            "887 is a prime number!\n",
            "907 is a prime number!\n",
            "911 is a prime number!\n",
            "919 is a prime number!\n",
            "929 is a prime number!\n",
            "937 is a prime number!\n",
            "941 is a prime number!\n",
            "947 is a prime number!\n",
            "953 is a prime number!\n",
            "967 is a prime number!\n",
            "971 is a prime number!\n",
            "977 is a prime number!\n",
            "983 is a prime number!\n",
            "991 is a prime number!\n",
            "997 is a prime number!\n"
          ]
        }
      ]
    },
    {
      "cell_type": "markdown",
      "source": [
        "**10. Create a NumPy array representing daily temperatures for a month. Calculate and display the weekly\n",
        "averages.**\n",
        "\n",
        "Ans -"
      ],
      "metadata": {
        "id": "jrQAhvoprvuI"
      }
    },
    {
      "cell_type": "code",
      "source": [
        "week_days = [\"Monday\", \"Tuesday\", \"Wednesday\", \"Thursday\", \"Friday\", \"Saturday\", \"Sunday\"]\n",
        "\n",
        "print (\"Day\" + (\" \"*12) + \"High Temperature\")\n",
        "print (\"-\"*30)\n",
        "temperature = []\n",
        "temp = 0\n",
        "spaces = 0\n",
        "\n",
        "for i,x in enumerate(week_days):\n",
        "    temp_input = input (\"Enter the temperature for\" +x+str(\":\"))\n",
        "    temperature.append(int(temp_input))\n",
        "    spaces = 15-len(x)\n",
        "    print (x,\" \"*spaces,temperature[i])\n",
        "\n",
        "avg= sum(temperature)//len(week_days)\n",
        "\n",
        "\n",
        "print (\"The average temperature for this week is\", avg)"
      ],
      "metadata": {
        "colab": {
          "base_uri": "https://localhost:8080/"
        },
        "id": "u5vKZ0Zrr5by",
        "outputId": "462836e2-a60a-44f5-b4ed-cabaae3d0fcf"
      },
      "execution_count": 13,
      "outputs": [
        {
          "output_type": "stream",
          "name": "stdout",
          "text": [
            "Day            High Temperature\n",
            "------------------------------\n",
            "Enter the temperature forMonday:45\n",
            "Monday           45\n",
            "Enter the temperature forTuesday:35\n",
            "Tuesday          35\n",
            "Enter the temperature forWednesday:32\n",
            "Wednesday        32\n",
            "Enter the temperature forThursday:43\n",
            "Thursday         43\n",
            "Enter the temperature forFriday:23\n",
            "Friday           23\n",
            "Enter the temperature forSaturday:41\n",
            "Saturday         41\n",
            "Enter the temperature forSunday:47\n",
            "Sunday           47\n",
            "The average temperature for this week is 38\n"
          ]
        }
      ]
    }
  ]
}